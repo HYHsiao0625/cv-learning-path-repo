{
 "cells": [
  {
   "cell_type": "code",
   "execution_count": 1,
   "id": "806316b9",
   "metadata": {},
   "outputs": [
    {
     "name": "stdout",
     "output_type": "stream",
     "text": [
      "訓練集總筆數: 14034\n",
      "測試集總筆數: 3000\n",
      "資料集的類別: ['buildings', 'forest', 'glacier', 'mountain', 'sea', 'street']\n",
      "類別與索引的對應: {'buildings': 0, 'forest': 1, 'glacier': 2, 'mountain': 3, 'sea': 4, 'street': 5}\n"
     ]
    }
   ],
   "source": [
    "import torch\n",
    "import torchvision\n",
    "from torchvision import transforms\n",
    "from torch.utils.data import DataLoader\n",
    "from torchvision.datasets import ImageFolder\n",
    "\n",
    "# --- 步驟 1: 準備資料與 Transforms ---\n",
    "\n",
    "# 為預訓練模型定義的標準化參數 (這是 ImageNet 的統計值，是固定用法)\n",
    "normalize = transforms.Normalize(mean=[0.485, 0.456, 0.406],\n",
    "                                 std=[0.229, 0.224, 0.225])\n",
    "\n",
    "# 為訓練集定義包含資料增強的轉換流程\n",
    "train_transform = transforms.Compose([\n",
    "    transforms.RandomResizedCrop(224), # 隨機裁切並縮放到 224x224\n",
    "    transforms.RandomHorizontalFlip(), # 隨機水平翻轉\n",
    "    transforms.ToTensor(),\n",
    "    normalize,\n",
    "])\n",
    "\n",
    "# 為測試集/驗證集定義轉換流程 (通常不做資料增強)\n",
    "test_transform = transforms.Compose([\n",
    "    transforms.Resize(256), # 先放大到 256\n",
    "    transforms.CenterCrop(224), # 再從中心裁切出 224x224\n",
    "    transforms.ToTensor(),\n",
    "    normalize,\n",
    "])\n",
    "\n",
    "# --- 載入資料 ---\n",
    "# 假設您的資料集解壓縮後路徑如下\n",
    "data_dir = './seg_train/' # 訓練集路徑\n",
    "test_dir = './seg_test/'  # 測試集路徑\n",
    "\n",
    "# 使用 ImageFolder 載入資料\n",
    "train_dataset = ImageFolder(root=data_dir, transform=train_transform)\n",
    "test_dataset = ImageFolder(root=test_dir, transform=test_transform)\n",
    "\n",
    "# 建立 DataLoader\n",
    "train_loader = DataLoader(train_dataset, batch_size=32, shuffle=True, num_workers=4)\n",
    "test_loader = DataLoader(test_dataset, batch_size=32, shuffle=False, num_workers=4)\n",
    "\n",
    "# 印出一些資訊來確認\n",
    "print(f\"訓練集總筆數: {len(train_dataset)}\")\n",
    "print(f\"測試集總筆數: {len(test_dataset)}\")\n",
    "print(f\"資料集的類別: {train_dataset.classes}\")\n",
    "\n",
    "# 取得類別與索引的對應關係\n",
    "class_to_idx = train_dataset.class_to_idx\n",
    "print(f\"類別與索引的對應: {class_to_idx}\")"
   ]
  },
  {
   "cell_type": "code",
   "execution_count": 2,
   "id": "5254842e",
   "metadata": {},
   "outputs": [
    {
     "name": "stdout",
     "output_type": "stream",
     "text": [
      "使用的裝置: cuda:0\n",
      "--- 改造後的模型分類頭 ---\n",
      "Linear(in_features=512, out_features=6, bias=True)\n"
     ]
    }
   ],
   "source": [
    "import torchvision.models as models\n",
    "import torch.nn as nn\n",
    "# --- 步驟 2: 準備模型 (Transfer Learning) ---\n",
    "\n",
    "# 載入預訓練的 ResNet-18\n",
    "model = models.resnet18(weights=models.ResNet18_Weights.IMAGENET1K_V1)\n",
    "\n",
    "# 1. 凍結所有預訓練層的參數\n",
    "for param in model.parameters():\n",
    "    param.requires_grad = False # 將梯度計算設定為 False\n",
    "\n",
    "# 2. 替換分類頭\n",
    "# 取得 fc 層的輸入特徵數量\n",
    "num_ftrs = model.fc.in_features\n",
    "# 取得我們的資料集類別數量\n",
    "num_classes = len(train_dataset.classes)\n",
    "\n",
    "# 將模型的 fc 層替換成一個新的線性層\n",
    "# 新層的 requires_grad 預設為 True，所以只有這一層的參數會被訓練\n",
    "model.fc = nn.Linear(num_ftrs, num_classes)\n",
    "\n",
    "# 將模型移動到 GPU (如果有的話)\n",
    "device = torch.device(\"cuda:0\" if torch.cuda.is_available() else \"cpu\")\n",
    "print(f\"使用的裝置: {device}\")\n",
    "model = model.to(device)\n",
    "\n",
    "\n",
    "# 印出改造後的模型最後一部分，確認修改成功\n",
    "print(\"--- 改造後的模型分類頭 ---\")\n",
    "print(model.fc)"
   ]
  },
  {
   "cell_type": "code",
   "execution_count": 3,
   "id": "b492afbf",
   "metadata": {},
   "outputs": [
    {
     "name": "stdout",
     "output_type": "stream",
     "text": [
      "Epoch [1/5], Step [100/439], Loss: 0.7642\n",
      "Epoch [1/5], Step [200/439], Loss: 0.5869\n",
      "Epoch [1/5], Step [300/439], Loss: 0.2333\n",
      "Epoch [1/5], Step [400/439], Loss: 0.3776\n",
      "Epoch [2/5], Step [100/439], Loss: 0.3097\n",
      "Epoch [2/5], Step [200/439], Loss: 0.3009\n",
      "Epoch [2/5], Step [300/439], Loss: 0.5230\n",
      "Epoch [2/5], Step [400/439], Loss: 0.2727\n",
      "Epoch [3/5], Step [100/439], Loss: 0.4382\n",
      "Epoch [3/5], Step [200/439], Loss: 0.3822\n",
      "Epoch [3/5], Step [300/439], Loss: 0.3995\n",
      "Epoch [3/5], Step [400/439], Loss: 0.6688\n",
      "Epoch [4/5], Step [100/439], Loss: 0.4375\n",
      "Epoch [4/5], Step [200/439], Loss: 0.3661\n",
      "Epoch [4/5], Step [300/439], Loss: 0.4486\n",
      "Epoch [4/5], Step [400/439], Loss: 0.6414\n",
      "Epoch [5/5], Step [100/439], Loss: 0.3720\n",
      "Epoch [5/5], Step [200/439], Loss: 0.2042\n",
      "Epoch [5/5], Step [300/439], Loss: 0.3921\n",
      "Epoch [5/5], Step [400/439], Loss: 0.3625\n",
      "訓練完成!\n"
     ]
    }
   ],
   "source": [
    "# --- 步驟 3: 訓練模型 ---\n",
    "\n",
    "# 1. 定義損失函數和優化器\n",
    "criterion = nn.CrossEntropyLoss()\n",
    "optimizer = torch.optim.Adam(model.parameters(), lr=0.001) # lr 是學習率 (learning rate)\n",
    "\n",
    "# 2. 設定訓練參數\n",
    "num_epochs = 5 # 這次我們可以多訓練幾個 epoch\n",
    "\n",
    "# 3. 撰寫訓練迴圈\n",
    "for epoch in range(num_epochs):\n",
    "    for i, (images, labels) in enumerate(train_loader):\n",
    "        # 將資料移動到 GPU (如果有的話)\n",
    "        images = images.to(device)\n",
    "        labels = labels.to(device)\n",
    "\n",
    "        # 1. 前向傳播 (Forward pass)\n",
    "        outputs = model(images)\n",
    "        loss = criterion(outputs, labels)\n",
    "        \n",
    "        # 2. 反向傳播與優化 (Backward and optimize)\n",
    "        optimizer.zero_grad()\n",
    "        loss.backward()\n",
    "        optimizer.step()\n",
    "\n",
    "        if (i+1) % 100 == 0:\n",
    "            print(f'Epoch [{epoch+1}/{num_epochs}], Step [{i+1}/{len(train_loader)}], Loss: {loss.item():.4f}')\n",
    "\n",
    "print('訓練完成!')"
   ]
  },
  {
   "cell_type": "code",
   "execution_count": 6,
   "id": "319bd3cc",
   "metadata": {},
   "outputs": [
    {
     "name": "stdout",
     "output_type": "stream",
     "text": [
      "模型在 3000 張測試圖片上的準確率為: 90.60 %\n"
     ]
    }
   ],
   "source": [
    "# --- 步驟 4: 評估模型 ---\n",
    "\n",
    "model.eval() # 將模型設定為評估模式\n",
    "\n",
    "with torch.no_grad(): # 在此區塊中，所有計算都不會追蹤梯度\n",
    "    n_correct = 0\n",
    "    n_samples = 0\n",
    "    for images, labels in test_loader: # 使用 test_loader\n",
    "        images = images.to(device)\n",
    "        labels = labels.to(device)\n",
    "        \n",
    "        outputs = model(images)\n",
    "        _, predicted = torch.max(outputs.data, 1)\n",
    "        \n",
    "        n_samples += labels.size(0)\n",
    "        n_correct += (predicted == labels).sum().item()\n",
    "\n",
    "    acc = 100.0 * n_correct / n_samples\n",
    "    # 【優化】使用 len(test_dataset) 讓文字更精確\n",
    "    print(f'模型在 {len(test_dataset)} 張測試圖片上的準確率為: {acc:.2f} %')"
   ]
  }
 ],
 "metadata": {
  "kernelspec": {
   "display_name": "PyToch",
   "language": "python",
   "name": "python3"
  },
  "language_info": {
   "codemirror_mode": {
    "name": "ipython",
    "version": 3
   },
   "file_extension": ".py",
   "mimetype": "text/x-python",
   "name": "python",
   "nbconvert_exporter": "python",
   "pygments_lexer": "ipython3",
   "version": "3.11.11"
  }
 },
 "nbformat": 4,
 "nbformat_minor": 5
}
